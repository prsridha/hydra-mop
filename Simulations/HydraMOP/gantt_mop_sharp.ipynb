{
 "cells": [
  {
   "cell_type": "code",
   "execution_count": 1,
   "id": "150759cb-b42a-4833-af97-374a50d4b105",
   "metadata": {},
   "outputs": [],
   "source": [
    "import json\n",
    "from pprint import pformat\n",
    "import pandas as pd\n",
    "import matplotlib.pyplot as plt\n",
    "from datetime import datetime\n",
    "import plotly.express as px"
   ]
  },
  {
   "cell_type": "code",
   "execution_count": 2,
   "id": "f699c4c6",
   "metadata": {},
   "outputs": [],
   "source": [
    "nodes = {0: [\"GPU0\", \"GPU1\",\"GPU2\",\"GPU3\"],\n",
    "           1: [\"GPU0\", \"GPU1\"],\n",
    "           2: [\"GPU0\", \"GPU1\"]\n",
    "        }\n",
    "\n",
    "large_models = 5\n",
    "small_models = 11\n",
    "time_large = 6\n",
    "time_small = 2"
   ]
  },
  {
   "cell_type": "code",
   "execution_count": 3,
   "id": "8ce359a1-f968-4615-86e8-5350e274ba7f",
   "metadata": {},
   "outputs": [],
   "source": [
    "def load_worker_stats(worker_id, json_file):\n",
    "    f = open(json_file)\n",
    "    worker_dat = json.load(f)\n",
    "    dat = []\n",
    "    for epoch in worker_dat:\n",
    "        for model in worker_dat[epoch]:\n",
    "            dat.append([worker_id, epoch, model, worker_dat[epoch][model][0], worker_dat[epoch][model][1]])\n",
    "    \n",
    "    return dat"
   ]
  },
  {
   "cell_type": "code",
   "execution_count": 4,
   "id": "12bcb2a1-6c50-434b-a045-f08b2b8de6dd",
   "metadata": {},
   "outputs": [],
   "source": [
    "worker_jsons = {}\n",
    "nworkers = 8\n",
    "for i in range(nworkers):\n",
    "    worker_jsons[i] = \"stats/execution_time/worker_times\" + str(i) + \".json\""
   ]
  },
  {
   "cell_type": "code",
   "execution_count": 30,
   "id": "38c01fd0-2762-4668-963a-47d40b0e1b5b",
   "metadata": {},
   "outputs": [],
   "source": [
    "all_dat_exec_times = []"
   ]
  },
  {
   "cell_type": "code",
   "execution_count": 31,
   "id": "75ecc85c-06f3-48c8-aabf-f5c6453f22f2",
   "metadata": {},
   "outputs": [],
   "source": [
    "for w in range(nworkers):\n",
    "    all_dat_exec_times.extend(load_worker_stats(w, worker_jsons[w]))"
   ]
  },
  {
   "cell_type": "code",
   "execution_count": 32,
   "id": "b7e5cf4d-0e81-4c56-9279-af3ea1056112",
   "metadata": {},
   "outputs": [],
   "source": [
    "df = pd.DataFrame(all_dat_exec_times, columns=['Worker', 'Epoch', 'Model','Start','End'])"
   ]
  },
  {
   "cell_type": "code",
   "execution_count": 33,
   "id": "29699e9a-a904-453e-acb5-a9723fa686dd",
   "metadata": {},
   "outputs": [],
   "source": [
    "df['Start'] = df['Start'].astype(int)\n",
    "df['End'] = df['End'].astype(int)\n",
    "df['Worker'] = df['Worker'].astype(str)\n",
    "df['Model'] = df['Model'].astype(str)\n",
    "df['Start'] = df['Start'].apply(lambda x: datetime.fromtimestamp(x).strftime('%Y-%m-%d %H:%M:%S'))\n",
    "df['End'] = df['End'].apply(lambda x: datetime.fromtimestamp(x).strftime('%Y-%m-%d %H:%M:%S'))"
   ]
  },
  {
   "cell_type": "code",
   "execution_count": 35,
   "id": "b79f6111",
   "metadata": {},
   "outputs": [
    {
     "data": {
      "text/html": [
       "<div>\n",
       "<style scoped>\n",
       "    .dataframe tbody tr th:only-of-type {\n",
       "        vertical-align: middle;\n",
       "    }\n",
       "\n",
       "    .dataframe tbody tr th {\n",
       "        vertical-align: top;\n",
       "    }\n",
       "\n",
       "    .dataframe thead th {\n",
       "        text-align: right;\n",
       "    }\n",
       "</style>\n",
       "<table border=\"1\" class=\"dataframe\">\n",
       "  <thead>\n",
       "    <tr style=\"text-align: right;\">\n",
       "      <th></th>\n",
       "      <th>Worker</th>\n",
       "      <th>Epoch</th>\n",
       "      <th>Model</th>\n",
       "      <th>Start</th>\n",
       "      <th>End</th>\n",
       "    </tr>\n",
       "  </thead>\n",
       "  <tbody>\n",
       "    <tr>\n",
       "      <th>0</th>\n",
       "      <td>0</td>\n",
       "      <td>epoch-0</td>\n",
       "      <td>model-group-3</td>\n",
       "      <td>2022-11-22 16:32:26</td>\n",
       "      <td>2022-11-22 16:32:46</td>\n",
       "    </tr>\n",
       "    <tr>\n",
       "      <th>1</th>\n",
       "      <td>0</td>\n",
       "      <td>epoch-0</td>\n",
       "      <td>model-group-7</td>\n",
       "      <td>2022-11-22 16:32:46</td>\n",
       "      <td>2022-11-22 16:32:48</td>\n",
       "    </tr>\n",
       "    <tr>\n",
       "      <th>2</th>\n",
       "      <td>0</td>\n",
       "      <td>epoch-0</td>\n",
       "      <td>model-group-8</td>\n",
       "      <td>2022-11-22 16:32:48</td>\n",
       "      <td>2022-11-22 16:32:50</td>\n",
       "    </tr>\n",
       "    <tr>\n",
       "      <th>3</th>\n",
       "      <td>0</td>\n",
       "      <td>epoch-0</td>\n",
       "      <td>model-group-6</td>\n",
       "      <td>2022-11-22 16:32:50</td>\n",
       "      <td>2022-11-22 16:32:52</td>\n",
       "    </tr>\n",
       "    <tr>\n",
       "      <th>4</th>\n",
       "      <td>0</td>\n",
       "      <td>epoch-0</td>\n",
       "      <td>model-group-9</td>\n",
       "      <td>2022-11-22 16:32:52</td>\n",
       "      <td>2022-11-22 16:32:54</td>\n",
       "    </tr>\n",
       "    <tr>\n",
       "      <th>...</th>\n",
       "      <td>...</td>\n",
       "      <td>...</td>\n",
       "      <td>...</td>\n",
       "      <td>...</td>\n",
       "      <td>...</td>\n",
       "    </tr>\n",
       "    <tr>\n",
       "      <th>65</th>\n",
       "      <td>7</td>\n",
       "      <td>epoch-0</td>\n",
       "      <td>model-group-1</td>\n",
       "      <td>2022-11-22 16:32:36</td>\n",
       "      <td>2022-11-22 16:32:46</td>\n",
       "    </tr>\n",
       "    <tr>\n",
       "      <th>66</th>\n",
       "      <td>7</td>\n",
       "      <td>epoch-0</td>\n",
       "      <td>model-group-3</td>\n",
       "      <td>2022-11-22 16:32:46</td>\n",
       "      <td>2022-11-22 16:32:56</td>\n",
       "    </tr>\n",
       "    <tr>\n",
       "      <th>67</th>\n",
       "      <td>7</td>\n",
       "      <td>epoch-0</td>\n",
       "      <td>model-group-2</td>\n",
       "      <td>2022-11-22 16:32:56</td>\n",
       "      <td>2022-11-22 16:33:06</td>\n",
       "    </tr>\n",
       "    <tr>\n",
       "      <th>68</th>\n",
       "      <td>7</td>\n",
       "      <td>epoch-0</td>\n",
       "      <td>model-group-4</td>\n",
       "      <td>2022-11-22 16:33:06</td>\n",
       "      <td>2022-11-22 16:33:21</td>\n",
       "    </tr>\n",
       "    <tr>\n",
       "      <th>69</th>\n",
       "      <td>7</td>\n",
       "      <td>epoch-0</td>\n",
       "      <td>model-group-0</td>\n",
       "      <td>2022-11-22 16:33:21</td>\n",
       "      <td>2022-11-22 16:33:31</td>\n",
       "    </tr>\n",
       "  </tbody>\n",
       "</table>\n",
       "<p>70 rows × 5 columns</p>\n",
       "</div>"
      ],
      "text/plain": [
       "   Worker    Epoch          Model                Start                  End\n",
       "0       0  epoch-0  model-group-3  2022-11-22 16:32:26  2022-11-22 16:32:46\n",
       "1       0  epoch-0  model-group-7  2022-11-22 16:32:46  2022-11-22 16:32:48\n",
       "2       0  epoch-0  model-group-8  2022-11-22 16:32:48  2022-11-22 16:32:50\n",
       "3       0  epoch-0  model-group-6  2022-11-22 16:32:50  2022-11-22 16:32:52\n",
       "4       0  epoch-0  model-group-9  2022-11-22 16:32:52  2022-11-22 16:32:54\n",
       "..    ...      ...            ...                  ...                  ...\n",
       "65      7  epoch-0  model-group-1  2022-11-22 16:32:36  2022-11-22 16:32:46\n",
       "66      7  epoch-0  model-group-3  2022-11-22 16:32:46  2022-11-22 16:32:56\n",
       "67      7  epoch-0  model-group-2  2022-11-22 16:32:56  2022-11-22 16:33:06\n",
       "68      7  epoch-0  model-group-4  2022-11-22 16:33:06  2022-11-22 16:33:21\n",
       "69      7  epoch-0  model-group-0  2022-11-22 16:33:21  2022-11-22 16:33:31\n",
       "\n",
       "[70 rows x 5 columns]"
      ]
     },
     "execution_count": 35,
     "metadata": {},
     "output_type": "execute_result"
    }
   ],
   "source": [
    "df"
   ]
  },
  {
   "cell_type": "code",
   "execution_count": 40,
   "id": "6d095c5c-d81f-4a83-a3fe-71590a7ec329",
   "metadata": {},
   "outputs": [
    {
     "data": {
      "application/vnd.plotly.v1+json": {
       "config": {
        "plotlyServerURL": "https://plot.ly"
       },
       "data": [
        {
         "alignmentgroup": "True",
         "base": [
          "2022-11-22 16:32:26",
          "2022-11-22 16:32:26",
          "2022-11-22 16:33:01",
          "2022-11-22 16:33:01",
          "2022-11-22 16:32:46",
          "2022-11-22 16:32:46"
         ],
         "hovertemplate": "Model=model-group-3<br>Start=%{base}<br>End=%{x}<br>Worker=%{y}<extra></extra>",
         "legendgroup": "model-group-3",
         "marker": {
          "color": "#636efa",
          "pattern": {
           "shape": ""
          }
         },
         "name": "model-group-3",
         "offsetgroup": "model-group-3",
         "orientation": "h",
         "showlegend": true,
         "textposition": "auto",
         "type": "bar",
         "x": [
          20000,
          20000,
          10000,
          10000,
          10000,
          10000
         ],
         "xaxis": "x",
         "y": [
          "0",
          "1",
          "4",
          "5",
          "6",
          "7"
         ],
         "yaxis": "y"
        },
        {
         "alignmentgroup": "True",
         "base": [
          "2022-11-22 16:32:46",
          "2022-11-22 16:32:48",
          "2022-11-22 16:32:34",
          "2022-11-22 16:32:28",
          "2022-11-22 16:32:51",
          "2022-11-22 16:32:53",
          "2022-11-22 16:32:32",
          "2022-11-22 16:32:26"
         ],
         "hovertemplate": "Model=model-group-7<br>Start=%{base}<br>End=%{x}<br>Worker=%{y}<extra></extra>",
         "legendgroup": "model-group-7",
         "marker": {
          "color": "#EF553B",
          "pattern": {
           "shape": ""
          }
         },
         "name": "model-group-7",
         "offsetgroup": "model-group-7",
         "orientation": "h",
         "showlegend": true,
         "textposition": "auto",
         "type": "bar",
         "x": [
          2000,
          2000,
          2000,
          2000,
          2000,
          2000,
          2000,
          2000
         ],
         "xaxis": "x",
         "y": [
          "0",
          "1",
          "2",
          "3",
          "4",
          "5",
          "6",
          "7"
         ],
         "yaxis": "y"
        },
        {
         "alignmentgroup": "True",
         "base": [
          "2022-11-22 16:32:48",
          "2022-11-22 16:33:14",
          "2022-11-22 16:32:26",
          "2022-11-22 16:32:30",
          "2022-11-22 16:32:53",
          "2022-11-22 16:32:57",
          "2022-11-22 16:32:34",
          "2022-11-22 16:32:28"
         ],
         "hovertemplate": "Model=model-group-8<br>Start=%{base}<br>End=%{x}<br>Worker=%{y}<extra></extra>",
         "legendgroup": "model-group-8",
         "marker": {
          "color": "#00cc96",
          "pattern": {
           "shape": ""
          }
         },
         "name": "model-group-8",
         "offsetgroup": "model-group-8",
         "orientation": "h",
         "showlegend": true,
         "textposition": "auto",
         "type": "bar",
         "x": [
          2000,
          2000,
          2000,
          2000,
          2000,
          2000,
          2000,
          2000
         ],
         "xaxis": "x",
         "y": [
          "0",
          "1",
          "2",
          "3",
          "4",
          "5",
          "6",
          "7"
         ],
         "yaxis": "y"
        },
        {
         "alignmentgroup": "True",
         "base": [
          "2022-11-22 16:32:50",
          "2022-11-22 16:32:52",
          "2022-11-22 16:32:28",
          "2022-11-22 16:32:32",
          "2022-11-22 16:32:59",
          "2022-11-22 16:32:55",
          "2022-11-22 16:32:26",
          "2022-11-22 16:32:30"
         ],
         "hovertemplate": "Model=model-group-6<br>Start=%{base}<br>End=%{x}<br>Worker=%{y}<extra></extra>",
         "legendgroup": "model-group-6",
         "marker": {
          "color": "#ab63fa",
          "pattern": {
           "shape": ""
          }
         },
         "name": "model-group-6",
         "offsetgroup": "model-group-6",
         "orientation": "h",
         "showlegend": true,
         "textposition": "auto",
         "type": "bar",
         "x": [
          2000,
          2000,
          2000,
          2000,
          2000,
          2000,
          2000,
          2000
         ],
         "xaxis": "x",
         "y": [
          "0",
          "1",
          "2",
          "3",
          "4",
          "5",
          "6",
          "7"
         ],
         "yaxis": "y"
        },
        {
         "alignmentgroup": "True",
         "base": [
          "2022-11-22 16:32:52",
          "2022-11-22 16:32:50",
          "2022-11-22 16:32:30",
          "2022-11-22 16:32:34",
          "2022-11-22 16:32:55",
          "2022-11-22 16:32:59",
          "2022-11-22 16:32:28",
          "2022-11-22 16:32:32"
         ],
         "hovertemplate": "Model=model-group-9<br>Start=%{base}<br>End=%{x}<br>Worker=%{y}<extra></extra>",
         "legendgroup": "model-group-9",
         "marker": {
          "color": "#FFA15A",
          "pattern": {
           "shape": ""
          }
         },
         "name": "model-group-9",
         "offsetgroup": "model-group-9",
         "orientation": "h",
         "showlegend": true,
         "textposition": "auto",
         "type": "bar",
         "x": [
          2000,
          2000,
          2000,
          2000,
          2000,
          2000,
          2000,
          2000
         ],
         "xaxis": "x",
         "y": [
          "0",
          "1",
          "2",
          "3",
          "4",
          "5",
          "6",
          "7"
         ],
         "yaxis": "y"
        },
        {
         "alignmentgroup": "True",
         "base": [
          "2022-11-22 16:32:54",
          "2022-11-22 16:32:54",
          "2022-11-22 16:33:21",
          "2022-11-22 16:33:21",
          "2022-11-22 16:32:36",
          "2022-11-22 16:32:36"
         ],
         "hovertemplate": "Model=model-group-1<br>Start=%{base}<br>End=%{x}<br>Worker=%{y}<extra></extra>",
         "legendgroup": "model-group-1",
         "marker": {
          "color": "#19d3f3",
          "pattern": {
           "shape": ""
          }
         },
         "name": "model-group-1",
         "offsetgroup": "model-group-1",
         "orientation": "h",
         "showlegend": true,
         "textposition": "auto",
         "type": "bar",
         "x": [
          20000,
          20000,
          10000,
          10000,
          10000,
          10000
         ],
         "xaxis": "x",
         "y": [
          "0",
          "1",
          "4",
          "5",
          "6",
          "7"
         ],
         "yaxis": "y"
        },
        {
         "alignmentgroup": "True",
         "base": [
          "2022-11-22 16:33:14",
          "2022-11-22 16:32:46",
          "2022-11-22 16:32:32",
          "2022-11-22 16:32:26",
          "2022-11-22 16:32:57",
          "2022-11-22 16:32:51",
          "2022-11-22 16:32:30",
          "2022-11-22 16:32:34"
         ],
         "hovertemplate": "Model=model-group-5<br>Start=%{base}<br>End=%{x}<br>Worker=%{y}<extra></extra>",
         "legendgroup": "model-group-5",
         "marker": {
          "color": "#FF6692",
          "pattern": {
           "shape": ""
          }
         },
         "name": "model-group-5",
         "offsetgroup": "model-group-5",
         "orientation": "h",
         "showlegend": true,
         "textposition": "auto",
         "type": "bar",
         "x": [
          2000,
          2000,
          2000,
          2000,
          2000,
          2000,
          2000,
          2000
         ],
         "xaxis": "x",
         "y": [
          "0",
          "1",
          "2",
          "3",
          "4",
          "5",
          "6",
          "7"
         ],
         "yaxis": "y"
        },
        {
         "alignmentgroup": "True",
         "base": [
          "2022-11-22 16:33:21",
          "2022-11-22 16:33:21",
          "2022-11-22 16:32:36",
          "2022-11-22 16:32:36",
          "2022-11-22 16:33:06",
          "2022-11-22 16:33:06"
         ],
         "hovertemplate": "Model=model-group-4<br>Start=%{base}<br>End=%{x}<br>Worker=%{y}<extra></extra>",
         "legendgroup": "model-group-4",
         "marker": {
          "color": "#B6E880",
          "pattern": {
           "shape": ""
          }
         },
         "name": "model-group-4",
         "offsetgroup": "model-group-4",
         "orientation": "h",
         "showlegend": true,
         "textposition": "auto",
         "type": "bar",
         "x": [
          30000,
          30000,
          15000,
          15000,
          15000,
          15000
         ],
         "xaxis": "x",
         "y": [
          "0",
          "1",
          "4",
          "5",
          "6",
          "7"
         ],
         "yaxis": "y"
        },
        {
         "alignmentgroup": "True",
         "base": [
          "2022-11-22 16:32:36",
          "2022-11-22 16:32:36",
          "2022-11-22 16:33:11",
          "2022-11-22 16:33:11",
          "2022-11-22 16:32:56",
          "2022-11-22 16:32:56"
         ],
         "hovertemplate": "Model=model-group-2<br>Start=%{base}<br>End=%{x}<br>Worker=%{y}<extra></extra>",
         "legendgroup": "model-group-2",
         "marker": {
          "color": "#FF97FF",
          "pattern": {
           "shape": ""
          }
         },
         "name": "model-group-2",
         "offsetgroup": "model-group-2",
         "orientation": "h",
         "showlegend": true,
         "textposition": "auto",
         "type": "bar",
         "x": [
          20000,
          20000,
          10000,
          10000,
          10000,
          10000
         ],
         "xaxis": "x",
         "y": [
          "2",
          "3",
          "4",
          "5",
          "6",
          "7"
         ],
         "yaxis": "y"
        },
        {
         "alignmentgroup": "True",
         "base": [
          "2022-11-22 16:32:56",
          "2022-11-22 16:32:56",
          "2022-11-22 16:32:26",
          "2022-11-22 16:32:26",
          "2022-11-22 16:33:21",
          "2022-11-22 16:33:21"
         ],
         "hovertemplate": "Model=model-group-0<br>Start=%{base}<br>End=%{x}<br>Worker=%{y}<extra></extra>",
         "legendgroup": "model-group-0",
         "marker": {
          "color": "#FECB52",
          "pattern": {
           "shape": ""
          }
         },
         "name": "model-group-0",
         "offsetgroup": "model-group-0",
         "orientation": "h",
         "showlegend": true,
         "textposition": "auto",
         "type": "bar",
         "x": [
          20000,
          20000,
          10000,
          10000,
          10000,
          10000
         ],
         "xaxis": "x",
         "y": [
          "2",
          "3",
          "4",
          "5",
          "6",
          "7"
         ],
         "yaxis": "y"
        }
       ],
       "layout": {
        "barmode": "overlay",
        "legend": {
         "title": {
          "text": "Model"
         },
         "tracegroupgap": 0
        },
        "margin": {
         "t": 60
        },
        "template": {
         "data": {
          "bar": [
           {
            "error_x": {
             "color": "#2a3f5f"
            },
            "error_y": {
             "color": "#2a3f5f"
            },
            "marker": {
             "line": {
              "color": "#E5ECF6",
              "width": 0.5
             },
             "pattern": {
              "fillmode": "overlay",
              "size": 10,
              "solidity": 0.2
             }
            },
            "type": "bar"
           }
          ],
          "barpolar": [
           {
            "marker": {
             "line": {
              "color": "#E5ECF6",
              "width": 0.5
             },
             "pattern": {
              "fillmode": "overlay",
              "size": 10,
              "solidity": 0.2
             }
            },
            "type": "barpolar"
           }
          ],
          "carpet": [
           {
            "aaxis": {
             "endlinecolor": "#2a3f5f",
             "gridcolor": "white",
             "linecolor": "white",
             "minorgridcolor": "white",
             "startlinecolor": "#2a3f5f"
            },
            "baxis": {
             "endlinecolor": "#2a3f5f",
             "gridcolor": "white",
             "linecolor": "white",
             "minorgridcolor": "white",
             "startlinecolor": "#2a3f5f"
            },
            "type": "carpet"
           }
          ],
          "choropleth": [
           {
            "colorbar": {
             "outlinewidth": 0,
             "ticks": ""
            },
            "type": "choropleth"
           }
          ],
          "contour": [
           {
            "colorbar": {
             "outlinewidth": 0,
             "ticks": ""
            },
            "colorscale": [
             [
              0,
              "#0d0887"
             ],
             [
              0.1111111111111111,
              "#46039f"
             ],
             [
              0.2222222222222222,
              "#7201a8"
             ],
             [
              0.3333333333333333,
              "#9c179e"
             ],
             [
              0.4444444444444444,
              "#bd3786"
             ],
             [
              0.5555555555555556,
              "#d8576b"
             ],
             [
              0.6666666666666666,
              "#ed7953"
             ],
             [
              0.7777777777777778,
              "#fb9f3a"
             ],
             [
              0.8888888888888888,
              "#fdca26"
             ],
             [
              1,
              "#f0f921"
             ]
            ],
            "type": "contour"
           }
          ],
          "contourcarpet": [
           {
            "colorbar": {
             "outlinewidth": 0,
             "ticks": ""
            },
            "type": "contourcarpet"
           }
          ],
          "heatmap": [
           {
            "colorbar": {
             "outlinewidth": 0,
             "ticks": ""
            },
            "colorscale": [
             [
              0,
              "#0d0887"
             ],
             [
              0.1111111111111111,
              "#46039f"
             ],
             [
              0.2222222222222222,
              "#7201a8"
             ],
             [
              0.3333333333333333,
              "#9c179e"
             ],
             [
              0.4444444444444444,
              "#bd3786"
             ],
             [
              0.5555555555555556,
              "#d8576b"
             ],
             [
              0.6666666666666666,
              "#ed7953"
             ],
             [
              0.7777777777777778,
              "#fb9f3a"
             ],
             [
              0.8888888888888888,
              "#fdca26"
             ],
             [
              1,
              "#f0f921"
             ]
            ],
            "type": "heatmap"
           }
          ],
          "heatmapgl": [
           {
            "colorbar": {
             "outlinewidth": 0,
             "ticks": ""
            },
            "colorscale": [
             [
              0,
              "#0d0887"
             ],
             [
              0.1111111111111111,
              "#46039f"
             ],
             [
              0.2222222222222222,
              "#7201a8"
             ],
             [
              0.3333333333333333,
              "#9c179e"
             ],
             [
              0.4444444444444444,
              "#bd3786"
             ],
             [
              0.5555555555555556,
              "#d8576b"
             ],
             [
              0.6666666666666666,
              "#ed7953"
             ],
             [
              0.7777777777777778,
              "#fb9f3a"
             ],
             [
              0.8888888888888888,
              "#fdca26"
             ],
             [
              1,
              "#f0f921"
             ]
            ],
            "type": "heatmapgl"
           }
          ],
          "histogram": [
           {
            "marker": {
             "pattern": {
              "fillmode": "overlay",
              "size": 10,
              "solidity": 0.2
             }
            },
            "type": "histogram"
           }
          ],
          "histogram2d": [
           {
            "colorbar": {
             "outlinewidth": 0,
             "ticks": ""
            },
            "colorscale": [
             [
              0,
              "#0d0887"
             ],
             [
              0.1111111111111111,
              "#46039f"
             ],
             [
              0.2222222222222222,
              "#7201a8"
             ],
             [
              0.3333333333333333,
              "#9c179e"
             ],
             [
              0.4444444444444444,
              "#bd3786"
             ],
             [
              0.5555555555555556,
              "#d8576b"
             ],
             [
              0.6666666666666666,
              "#ed7953"
             ],
             [
              0.7777777777777778,
              "#fb9f3a"
             ],
             [
              0.8888888888888888,
              "#fdca26"
             ],
             [
              1,
              "#f0f921"
             ]
            ],
            "type": "histogram2d"
           }
          ],
          "histogram2dcontour": [
           {
            "colorbar": {
             "outlinewidth": 0,
             "ticks": ""
            },
            "colorscale": [
             [
              0,
              "#0d0887"
             ],
             [
              0.1111111111111111,
              "#46039f"
             ],
             [
              0.2222222222222222,
              "#7201a8"
             ],
             [
              0.3333333333333333,
              "#9c179e"
             ],
             [
              0.4444444444444444,
              "#bd3786"
             ],
             [
              0.5555555555555556,
              "#d8576b"
             ],
             [
              0.6666666666666666,
              "#ed7953"
             ],
             [
              0.7777777777777778,
              "#fb9f3a"
             ],
             [
              0.8888888888888888,
              "#fdca26"
             ],
             [
              1,
              "#f0f921"
             ]
            ],
            "type": "histogram2dcontour"
           }
          ],
          "mesh3d": [
           {
            "colorbar": {
             "outlinewidth": 0,
             "ticks": ""
            },
            "type": "mesh3d"
           }
          ],
          "parcoords": [
           {
            "line": {
             "colorbar": {
              "outlinewidth": 0,
              "ticks": ""
             }
            },
            "type": "parcoords"
           }
          ],
          "pie": [
           {
            "automargin": true,
            "type": "pie"
           }
          ],
          "scatter": [
           {
            "fillpattern": {
             "fillmode": "overlay",
             "size": 10,
             "solidity": 0.2
            },
            "type": "scatter"
           }
          ],
          "scatter3d": [
           {
            "line": {
             "colorbar": {
              "outlinewidth": 0,
              "ticks": ""
             }
            },
            "marker": {
             "colorbar": {
              "outlinewidth": 0,
              "ticks": ""
             }
            },
            "type": "scatter3d"
           }
          ],
          "scattercarpet": [
           {
            "marker": {
             "colorbar": {
              "outlinewidth": 0,
              "ticks": ""
             }
            },
            "type": "scattercarpet"
           }
          ],
          "scattergeo": [
           {
            "marker": {
             "colorbar": {
              "outlinewidth": 0,
              "ticks": ""
             }
            },
            "type": "scattergeo"
           }
          ],
          "scattergl": [
           {
            "marker": {
             "colorbar": {
              "outlinewidth": 0,
              "ticks": ""
             }
            },
            "type": "scattergl"
           }
          ],
          "scattermapbox": [
           {
            "marker": {
             "colorbar": {
              "outlinewidth": 0,
              "ticks": ""
             }
            },
            "type": "scattermapbox"
           }
          ],
          "scatterpolar": [
           {
            "marker": {
             "colorbar": {
              "outlinewidth": 0,
              "ticks": ""
             }
            },
            "type": "scatterpolar"
           }
          ],
          "scatterpolargl": [
           {
            "marker": {
             "colorbar": {
              "outlinewidth": 0,
              "ticks": ""
             }
            },
            "type": "scatterpolargl"
           }
          ],
          "scatterternary": [
           {
            "marker": {
             "colorbar": {
              "outlinewidth": 0,
              "ticks": ""
             }
            },
            "type": "scatterternary"
           }
          ],
          "surface": [
           {
            "colorbar": {
             "outlinewidth": 0,
             "ticks": ""
            },
            "colorscale": [
             [
              0,
              "#0d0887"
             ],
             [
              0.1111111111111111,
              "#46039f"
             ],
             [
              0.2222222222222222,
              "#7201a8"
             ],
             [
              0.3333333333333333,
              "#9c179e"
             ],
             [
              0.4444444444444444,
              "#bd3786"
             ],
             [
              0.5555555555555556,
              "#d8576b"
             ],
             [
              0.6666666666666666,
              "#ed7953"
             ],
             [
              0.7777777777777778,
              "#fb9f3a"
             ],
             [
              0.8888888888888888,
              "#fdca26"
             ],
             [
              1,
              "#f0f921"
             ]
            ],
            "type": "surface"
           }
          ],
          "table": [
           {
            "cells": {
             "fill": {
              "color": "#EBF0F8"
             },
             "line": {
              "color": "white"
             }
            },
            "header": {
             "fill": {
              "color": "#C8D4E3"
             },
             "line": {
              "color": "white"
             }
            },
            "type": "table"
           }
          ]
         },
         "layout": {
          "annotationdefaults": {
           "arrowcolor": "#2a3f5f",
           "arrowhead": 0,
           "arrowwidth": 1
          },
          "autotypenumbers": "strict",
          "coloraxis": {
           "colorbar": {
            "outlinewidth": 0,
            "ticks": ""
           }
          },
          "colorscale": {
           "diverging": [
            [
             0,
             "#8e0152"
            ],
            [
             0.1,
             "#c51b7d"
            ],
            [
             0.2,
             "#de77ae"
            ],
            [
             0.3,
             "#f1b6da"
            ],
            [
             0.4,
             "#fde0ef"
            ],
            [
             0.5,
             "#f7f7f7"
            ],
            [
             0.6,
             "#e6f5d0"
            ],
            [
             0.7,
             "#b8e186"
            ],
            [
             0.8,
             "#7fbc41"
            ],
            [
             0.9,
             "#4d9221"
            ],
            [
             1,
             "#276419"
            ]
           ],
           "sequential": [
            [
             0,
             "#0d0887"
            ],
            [
             0.1111111111111111,
             "#46039f"
            ],
            [
             0.2222222222222222,
             "#7201a8"
            ],
            [
             0.3333333333333333,
             "#9c179e"
            ],
            [
             0.4444444444444444,
             "#bd3786"
            ],
            [
             0.5555555555555556,
             "#d8576b"
            ],
            [
             0.6666666666666666,
             "#ed7953"
            ],
            [
             0.7777777777777778,
             "#fb9f3a"
            ],
            [
             0.8888888888888888,
             "#fdca26"
            ],
            [
             1,
             "#f0f921"
            ]
           ],
           "sequentialminus": [
            [
             0,
             "#0d0887"
            ],
            [
             0.1111111111111111,
             "#46039f"
            ],
            [
             0.2222222222222222,
             "#7201a8"
            ],
            [
             0.3333333333333333,
             "#9c179e"
            ],
            [
             0.4444444444444444,
             "#bd3786"
            ],
            [
             0.5555555555555556,
             "#d8576b"
            ],
            [
             0.6666666666666666,
             "#ed7953"
            ],
            [
             0.7777777777777778,
             "#fb9f3a"
            ],
            [
             0.8888888888888888,
             "#fdca26"
            ],
            [
             1,
             "#f0f921"
            ]
           ]
          },
          "colorway": [
           "#636efa",
           "#EF553B",
           "#00cc96",
           "#ab63fa",
           "#FFA15A",
           "#19d3f3",
           "#FF6692",
           "#B6E880",
           "#FF97FF",
           "#FECB52"
          ],
          "font": {
           "color": "#2a3f5f"
          },
          "geo": {
           "bgcolor": "white",
           "lakecolor": "white",
           "landcolor": "#E5ECF6",
           "showlakes": true,
           "showland": true,
           "subunitcolor": "white"
          },
          "hoverlabel": {
           "align": "left"
          },
          "hovermode": "closest",
          "mapbox": {
           "style": "light"
          },
          "paper_bgcolor": "white",
          "plot_bgcolor": "#E5ECF6",
          "polar": {
           "angularaxis": {
            "gridcolor": "white",
            "linecolor": "white",
            "ticks": ""
           },
           "bgcolor": "#E5ECF6",
           "radialaxis": {
            "gridcolor": "white",
            "linecolor": "white",
            "ticks": ""
           }
          },
          "scene": {
           "xaxis": {
            "backgroundcolor": "#E5ECF6",
            "gridcolor": "white",
            "gridwidth": 2,
            "linecolor": "white",
            "showbackground": true,
            "ticks": "",
            "zerolinecolor": "white"
           },
           "yaxis": {
            "backgroundcolor": "#E5ECF6",
            "gridcolor": "white",
            "gridwidth": 2,
            "linecolor": "white",
            "showbackground": true,
            "ticks": "",
            "zerolinecolor": "white"
           },
           "zaxis": {
            "backgroundcolor": "#E5ECF6",
            "gridcolor": "white",
            "gridwidth": 2,
            "linecolor": "white",
            "showbackground": true,
            "ticks": "",
            "zerolinecolor": "white"
           }
          },
          "shapedefaults": {
           "line": {
            "color": "#2a3f5f"
           }
          },
          "ternary": {
           "aaxis": {
            "gridcolor": "white",
            "linecolor": "white",
            "ticks": ""
           },
           "baxis": {
            "gridcolor": "white",
            "linecolor": "white",
            "ticks": ""
           },
           "bgcolor": "#E5ECF6",
           "caxis": {
            "gridcolor": "white",
            "linecolor": "white",
            "ticks": ""
           }
          },
          "title": {
           "x": 0.05
          },
          "xaxis": {
           "automargin": true,
           "gridcolor": "white",
           "linecolor": "white",
           "ticks": "",
           "title": {
            "standoff": 15
           },
           "zerolinecolor": "white",
           "zerolinewidth": 2
          },
          "yaxis": {
           "automargin": true,
           "gridcolor": "white",
           "linecolor": "white",
           "ticks": "",
           "title": {
            "standoff": 15
           },
           "zerolinecolor": "white",
           "zerolinewidth": 2
          }
         }
        },
        "xaxis": {
         "anchor": "y",
         "domain": [
          0,
          1
         ],
         "type": "date"
        },
        "yaxis": {
         "anchor": "x",
         "autorange": "reversed",
         "domain": [
          0,
          1
         ],
         "title": {
          "text": "Worker"
         }
        }
       }
      }
     },
     "metadata": {},
     "output_type": "display_data"
    },
    {
     "name": "stdout",
     "output_type": "stream",
     "text": [
      "Node Configuration {0: ['GPU0', 'GPU1', 'GPU2', 'GPU3'], 1: ['GPU0', 'GPU1'], 2: ['GPU0', 'GPU1']}\n",
      "Number of large models 11\n",
      "Number of small models 5\n",
      "Time taken to train large model 6 seconds\n",
      "Time taken to train small model 2 seconds\n"
     ]
    }
   ],
   "source": [
    "fig = px.timeline(df, x_start=\"Start\", x_end=\"End\", y=\"Worker\",color=\"Model\")\n",
    "fig.update_yaxes(autorange=\"reversed\")\n",
    "fig.show()\n",
    "\n",
    "print(\"Node Configuration\", pformat(nodes))\n",
    "print(\"Number of large models\", large_models)\n",
    "print(\"Number of small models\", small_models)\n",
    "print(\"Time taken to train large model\", time_large, \"seconds\")\n",
    "print(\"Time taken to train small model\", time_small, \"seconds\")"
   ]
  },
  {
   "cell_type": "code",
   "execution_count": null,
   "id": "20cb01ca",
   "metadata": {},
   "outputs": [],
   "source": []
  },
  {
   "cell_type": "code",
   "execution_count": null,
   "id": "66e5e741",
   "metadata": {},
   "outputs": [],
   "source": []
  },
  {
   "cell_type": "code",
   "execution_count": null,
   "id": "acf8a26a",
   "metadata": {},
   "outputs": [],
   "source": []
  }
 ],
 "metadata": {
  "kernelspec": {
   "display_name": "Python 3 (ipykernel)",
   "language": "python",
   "name": "python3"
  },
  "language_info": {
   "codemirror_mode": {
    "name": "ipython",
    "version": 3
   },
   "file_extension": ".py",
   "mimetype": "text/x-python",
   "name": "python",
   "nbconvert_exporter": "python",
   "pygments_lexer": "ipython3",
   "version": "3.10.5"
  },
  "vscode": {
   "interpreter": {
    "hash": "aee8b7b246df8f9039afb4144a1f6fd8d2ca17a180786b69acc140d282b71a49"
   }
  }
 },
 "nbformat": 4,
 "nbformat_minor": 5
}
